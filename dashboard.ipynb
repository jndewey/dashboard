{
  "nbformat": 4,
  "nbformat_minor": 0,
  "metadata": {
    "colab": {
      "name": "dashboard.ipynb",
      "version": "0.3.2",
      "provenance": [],
      "include_colab_link": true
    },
    "kernelspec": {
      "display_name": "Python 3",
      "language": "python",
      "name": "python3"
    }
  },
  "cells": [
    {
      "cell_type": "markdown",
      "metadata": {
        "id": "view-in-github",
        "colab_type": "text"
      },
      "source": [
        "[View in Colaboratory](https://colab.research.google.com/github/jndewey/dashboard/blob/master/dashboard.ipynb)"
      ]
    },
    {
      "metadata": {
        "id": "EGI04lVrJOiu",
        "colab_type": "text"
      },
      "cell_type": "markdown",
      "source": [
        "![alt text](https://s3.amazonaws.com/blaze4/HK+logo.png)\n",
        "# The H&K Lawyer Notebook\n",
        "\n",
        "A collection of simple, yet powerful tools for lawyers to do their jobs better and more efficiently. By leveraging data analytics, natural language processing, machine learning, network graphing and other open source solutions, users are able to be more efficient, produce better quality work and identify meaningful insight in data. Most tools are still under active development, so reserved for our more intrepid lawyers.\n",
        "\n",
        "***\n"
      ]
    },
    {
      "metadata": {
        "id": "54bKJ72aJOiJ",
        "colab_type": "text"
      },
      "cell_type": "markdown",
      "source": [
        "<h1>Available Tools<span class=\"tocSkip\"></span></h1>\n",
        "<div class=\"toc\"><ul class=\"toc-item\"><li><span><a href=\"#The-H&amp;K-Lawyer-Notebook\" data-toc-modified-id=\"The-H&amp;K-Lawyer-Notebook-1\">The H&amp;K Lawyer Notebook</a></span><ul class=\"toc-item\"><li><span><a href=\"#Classification-Tool\" data-toc-modified-id=\"Classification-Tool-1.1\">Classification Tool</a></span></li><li><span><a href=\"#Bulk-Compare-(one-against-many-to-discover-deviation-from-known-source)\" data-toc-modified-id=\"Bulk-Compare-(one-against-many-to-discover-deviation-from-known-source)-1.2\">Bulk Compare (one against many to discover deviation from known source)</a></span></li><li><span><a href=\"#Bulk-Compare-(many-against-many-to-identify-matches)\" data-toc-modified-id=\"Bulk-Compare-(many-against-many-to-identify-matches)-1.3\">Bulk Compare (many against many to identify matches)</a></span></li><li><span><a href=\"#QuickCAN\" data-toc-modified-id=\"QuickCAN-1.4\">QuickCAN</a></span></li><li><span><a href=\"#QuickCAR\" data-toc-modified-id=\"QuickCAR-1.5\">QuickCAR</a></span></li><li><span><a href=\"#Signature-Page-Generator\" data-toc-modified-id=\"Signature-Page-Generator-1.6\">Signature Page Generator</a></span></li><li><span><a href=\"#Closing-Binder-Generator\" data-toc-modified-id=\"Closing-Binder-Generator-1.7\">Closing Binder Generator</a></span></li></ul></li><li><span><a href=\"#Documentation-and-Help\" data-toc-modified-id=\"Documentation-and-Help-2\">Documentation and Help</a></span><ul class=\"toc-item\"><li><span><a href=\"#Classification-Tool\" data-toc-modified-id=\"Classification-Tool-2.1\"><em>Classification Tool</em></a></span><ul class=\"toc-item\"><li><span><a href=\"#Getting-Started\" data-toc-modified-id=\"Getting-Started-2.1.1\">Getting Started</a></span></li></ul></li></ul></li></ul></div>"
      ]
    },
    {
      "metadata": {
        "id": "kY09BlQoJOiO",
        "colab_type": "code",
        "colab": {}
      },
      "cell_type": "code",
      "source": [
        "def run_match(df_precedent, df_current):\n",
        "    choices = df_precedent[\"raw_1\"]\n",
        "    query = df_current[\"text\"]\n",
        "    raw_current = df_current[\"raw\"]\n",
        "    wb = Workbook()\n",
        "    ws = wb.active\n",
        "    column_cell_A = 'A'\n",
        "    column_cell_B = 'B'\n",
        "    column_cell_C = 'C'\n",
        "    column_cell_D = 'D'\n",
        "    column_cell_E = 'E'\n",
        "    ws[column_cell_A+'1'] = 'Query'\n",
        "    ws[column_cell_B+'1'] = 'raw_1'\n",
        "    ws[column_cell_C+'1'] = 'raw_2'\n",
        "    ws[column_cell_D+'1'] = 'strength'\n",
        "    ws[column_cell_E+'1'] = 'raw'\n",
        "    i = 2\n",
        "    ii = 0\n",
        "    for q in query:\n",
        "        if ii <=100000000:\n",
        "            match = process.extractOne(q,choices=choices,scorer=fuzz.token_sort_ratio, score_cutoff=0)\n",
        "            if match != None:\n",
        "                q_index = ii\n",
        "                index = match[2]\n",
        "                found = match[0]\n",
        "                strength = match[1]\n",
        "                print('*******************************')\n",
        "                print('Looking for:' + ' ' + q)\n",
        "                print('*******************************')\n",
        "                print('Located:' + ' ' + found)\n",
        "                print('Strength' + ' ' + str(strength))\n",
        "                ws[column_cell_A+str(i)] = q\n",
        "                ws[column_cell_B+str(i)] = df_precedent['raw_1'][index]\n",
        "                ws[column_cell_C+str(i)] = df_precedent['raw_2'][index]\n",
        "                ws[column_cell_D+str(i)] = strength\n",
        "                ws[column_cell_E+str(i)] = df_current[\"raw\"]\n",
        "        else:\n",
        "            break\n",
        "        i = i+1\n",
        "        ii = ii+1\n",
        "    wb.save(\"/Users/josiasdewey/jupyter/master.xlsx\")\n"
      ],
      "execution_count": 0,
      "outputs": []
    },
    {
      "metadata": {
        "id": "j3R0_JDPJOi1",
        "colab_type": "text"
      },
      "cell_type": "markdown",
      "source": [
        "## Classification Tool\n",
        "\n",
        "Classify text using one of several trained machine learning models.\n"
      ]
    },
    {
      "metadata": {
        "id": "H692NtF-JOi6",
        "colab_type": "code",
        "colab": {
          "base_uri": "https://localhost:8080/",
          "height": 373
        },
        "outputId": "5addaa02-4fb6-40f9-ca51-256edde8a0b2"
      },
      "cell_type": "code",
      "source": [
        "import ipywidgets as widgets\n",
        "from IPython.display import display, HTML\n",
        "from __future__ import print_function\n",
        "\n",
        "x = widgets.RadioButtons(\n",
        "    options=['finance', 'leasing', 'private equity', 'corporate M&A', 'bond financing'],\n",
        "     value='finance',\n",
        "    description='Select model:',\n",
        "    disabled=False\n",
        ")\n",
        "display(x)\n",
        "\n",
        "clause_selection = widgets.SelectMultiple(\n",
        "    options=['Termination', 'Commitment/Unused Fees', 'Change in Control', 'Voluntary Prepayment', 'Material Adverse Condition', 'Events of Default', 'Eurodollar Rate'],\n",
        "    value=['Change in Control'],\n",
        "    #rows=10,\n",
        "    description='Select:',\n",
        "    disabled=False\n",
        ")\n",
        "display(clause_selection)\n",
        "\n",
        "y = widgets.Text(\n",
        "    value='path to document',\n",
        "    placeholder='Type something',\n",
        "    description='Filename:',\n",
        "    disabled=False\n",
        ")\n",
        "display(y)\n",
        "\n",
        "from IPython.display import display\n",
        "button = widgets.Button(description=\"Submit\")\n",
        "button.style.button_color = 'lightblue'\n",
        "display(button)\n",
        "\n",
        "def on_button_clicked(b):\n",
        "    print(\"Button clicked.\")\n",
        "\n",
        "button.on_click(on_button_clicked)"
      ],
      "execution_count": 5,
      "outputs": [
        {
          "output_type": "error",
          "ename": "ModuleNotFoundError",
          "evalue": "ignored",
          "traceback": [
            "\u001b[0;31m---------------------------------------------------------------------------\u001b[0m",
            "\u001b[0;31mModuleNotFoundError\u001b[0m                       Traceback (most recent call last)",
            "\u001b[0;32m<ipython-input-5-8c5d9764ea7f>\u001b[0m in \u001b[0;36m<module>\u001b[0;34m()\u001b[0m\n\u001b[0;32m----> 1\u001b[0;31m \u001b[0;32mimport\u001b[0m \u001b[0mipywidgets\u001b[0m \u001b[0;32mas\u001b[0m \u001b[0mwidgets\u001b[0m\u001b[0;34m\u001b[0m\u001b[0m\n\u001b[0m\u001b[1;32m      2\u001b[0m \u001b[0;32mfrom\u001b[0m \u001b[0mIPython\u001b[0m\u001b[0;34m.\u001b[0m\u001b[0mdisplay\u001b[0m \u001b[0;32mimport\u001b[0m \u001b[0mdisplay\u001b[0m\u001b[0;34m,\u001b[0m \u001b[0mHTML\u001b[0m\u001b[0;34m\u001b[0m\u001b[0m\n\u001b[1;32m      3\u001b[0m \u001b[0;32mfrom\u001b[0m \u001b[0m__future__\u001b[0m \u001b[0;32mimport\u001b[0m \u001b[0mprint_function\u001b[0m\u001b[0;34m\u001b[0m\u001b[0m\n\u001b[1;32m      4\u001b[0m \u001b[0;34m\u001b[0m\u001b[0m\n\u001b[1;32m      5\u001b[0m x = widgets.RadioButtons(\n",
            "\u001b[0;31mModuleNotFoundError\u001b[0m: No module named 'ipywidgets'",
            "",
            "\u001b[0;31m---------------------------------------------------------------------------\u001b[0;32m\nNOTE: If your import is failing due to a missing package, you can\nmanually install dependencies using either !pip or !apt.\n\nTo view examples of installing some common dependencies, click the\n\"Open Examples\" button below.\n\u001b[0;31m---------------------------------------------------------------------------\u001b[0m\n"
          ]
        }
      ]
    },
    {
      "metadata": {
        "id": "RMSu5qtDJOjP",
        "colab_type": "text"
      },
      "cell_type": "markdown",
      "source": [
        "***"
      ]
    },
    {
      "metadata": {
        "id": "q8dZIisIJOjV",
        "colab_type": "text"
      },
      "cell_type": "markdown",
      "source": [
        "## Bulk Compare (one against many to discover deviation from known source)\n",
        "Compare a large number of documents against a common base document.  For example, compare lease agreements against lease form to determine deviations from approved form. "
      ]
    },
    {
      "metadata": {
        "id": "0P8iJ3J_JOja",
        "colab_type": "code",
        "colab": {
          "base_uri": "https://localhost:8080/",
          "height": 373
        },
        "outputId": "b8abf51e-23c1-41dd-b7e7-28e7d6852d2e"
      },
      "cell_type": "code",
      "source": [
        "import ipywidgets as widgets\n",
        "from __future__ import print_function\n",
        "from IPython.display import display\n",
        "\n",
        "y = widgets.Text(\n",
        "    value='filename and path',\n",
        "    placeholder='Type something',\n",
        "    description='Base:',\n",
        "    disabled=False\n",
        ")\n",
        "display(y)\n",
        "\n",
        "y = widgets.Text(\n",
        "    value='filename and path',\n",
        "    placeholder='Type something',\n",
        "    description='Compared:',\n",
        "    disabled=False\n",
        ")\n",
        "display(y)\n",
        "\n",
        "from IPython.display import display\n",
        "button = widgets.Button(description=\"Submit\")\n",
        "button.style.button_color = 'lightblue'\n",
        "display(button)\n",
        "\n",
        "def on_button_clicked(b):\n",
        "    print(\"Button clicked.\")\n",
        "\n",
        "button.on_click(on_button_clicked)"
      ],
      "execution_count": 3,
      "outputs": [
        {
          "output_type": "error",
          "ename": "ModuleNotFoundError",
          "evalue": "ignored",
          "traceback": [
            "\u001b[0;31m---------------------------------------------------------------------------\u001b[0m",
            "\u001b[0;31mModuleNotFoundError\u001b[0m                       Traceback (most recent call last)",
            "\u001b[0;32m<ipython-input-3-9d23f89fc0f6>\u001b[0m in \u001b[0;36m<module>\u001b[0;34m()\u001b[0m\n\u001b[0;32m----> 1\u001b[0;31m \u001b[0;32mimport\u001b[0m \u001b[0mipywidgets\u001b[0m \u001b[0;32mas\u001b[0m \u001b[0mwidgets\u001b[0m\u001b[0;34m\u001b[0m\u001b[0m\n\u001b[0m\u001b[1;32m      2\u001b[0m \u001b[0;32mfrom\u001b[0m \u001b[0m__future__\u001b[0m \u001b[0;32mimport\u001b[0m \u001b[0mprint_function\u001b[0m\u001b[0;34m\u001b[0m\u001b[0m\n\u001b[1;32m      3\u001b[0m \u001b[0;32mfrom\u001b[0m \u001b[0mIPython\u001b[0m\u001b[0;34m.\u001b[0m\u001b[0mdisplay\u001b[0m \u001b[0;32mimport\u001b[0m \u001b[0mdisplay\u001b[0m\u001b[0;34m\u001b[0m\u001b[0m\n\u001b[1;32m      4\u001b[0m \u001b[0;34m\u001b[0m\u001b[0m\n\u001b[1;32m      5\u001b[0m y = widgets.Text(\n",
            "\u001b[0;31mModuleNotFoundError\u001b[0m: No module named 'ipywidgets'",
            "",
            "\u001b[0;31m---------------------------------------------------------------------------\u001b[0;32m\nNOTE: If your import is failing due to a missing package, you can\nmanually install dependencies using either !pip or !apt.\n\nTo view examples of installing some common dependencies, click the\n\"Open Examples\" button below.\n\u001b[0;31m---------------------------------------------------------------------------\u001b[0m\n"
          ]
        }
      ]
    },
    {
      "metadata": {
        "id": "YrCVpIY1JOjo",
        "colab_type": "text"
      },
      "cell_type": "markdown",
      "source": [
        "## Bulk Compare (many against many to identify matches)\n",
        "Compare a large number of items (the Query) against another large groups of items (the Search) and determine matches. For example, a client requests we confirm the desruction of files relating to several hundred matters, where the matter description for each must be cross checked against several thousand entries in our file storage list. This tool leverages fuzzy matching in order to identify matches undetected by pure booleen searches (e.g., \"FIRST INTERNATIONAL\" captured even if search query is \"INTL FIRS\")"
      ]
    },
    {
      "metadata": {
        "id": "j_iwNh6bJOjt",
        "colab_type": "code",
        "colab": {},
        "outputId": "61758037-0a3a-4d55-f405-774417f0a2f1"
      },
      "cell_type": "code",
      "source": [
        "import ipywidgets as widgets\n",
        "from __future__ import print_function\n",
        "from IPython.display import display\n",
        "\n",
        "y = widgets.Text(\n",
        "    value='filename and path',\n",
        "    placeholder='Type something',\n",
        "    description='Query:',\n",
        "    disabled=False\n",
        ")\n",
        "display(y)\n",
        "\n",
        "y = widgets.Text(\n",
        "    value='filename and path',\n",
        "    placeholder='Type something',\n",
        "    description='Search:',\n",
        "    disabled=False\n",
        ")\n",
        "display(y)\n",
        "\n",
        "from IPython.display import display\n",
        "button = widgets.Button(description=\"Submit\")\n",
        "button.style.button_color = 'lightblue'\n",
        "display(button)\n",
        "\n",
        "def on_button_clicked(b):\n",
        "    print(\"Button clicked.\")\n",
        "\n",
        "button.on_click(on_button_clicked)"
      ],
      "execution_count": 0,
      "outputs": [
        {
          "output_type": "display_data",
          "data": {
            "application/vnd.jupyter.widget-view+json": {
              "model_id": "eac8a07c797e48edb89fbe66d08a0fc3",
              "version_major": 2,
              "version_minor": 0
            },
            "text/plain": [
              "Text(value='filename and path', description='Query:', placeholder='Type something')"
            ]
          },
          "metadata": {
            "tags": []
          }
        },
        {
          "output_type": "display_data",
          "data": {
            "application/vnd.jupyter.widget-view+json": {
              "model_id": "6d55daa72226494891f7f60ecc7a7973",
              "version_major": 2,
              "version_minor": 0
            },
            "text/plain": [
              "Text(value='filename and path', description='Search:', placeholder='Type something')"
            ]
          },
          "metadata": {
            "tags": []
          }
        },
        {
          "output_type": "display_data",
          "data": {
            "application/vnd.jupyter.widget-view+json": {
              "model_id": "0fa1e0a6b8c3415987dc050372fd88a5",
              "version_major": 2,
              "version_minor": 0
            },
            "text/plain": [
              "Button(description='Submit', style=ButtonStyle(button_color='lightblue'))"
            ]
          },
          "metadata": {
            "tags": []
          }
        }
      ]
    },
    {
      "metadata": {
        "id": "vesdxhdwJOj8",
        "colab_type": "text"
      },
      "cell_type": "markdown",
      "source": [
        "***"
      ]
    },
    {
      "metadata": {
        "id": "6Zi9JmcSJOkB",
        "colab_type": "text"
      },
      "cell_type": "markdown",
      "source": [
        "## QuickCAN\n",
        "Computer generated revisions to contracts based on precedent clause database.  Machine learning algorithms and fuzzy matching are used to incorporate revisions made to similar text in precedent clauses."
      ]
    },
    {
      "metadata": {
        "id": "ODLgh6JNJOkE",
        "colab_type": "code",
        "colab": {},
        "outputId": "608ba10a-586f-4240-95a3-c8e157ff7f0f"
      },
      "cell_type": "code",
      "source": [
        "import ipywidgets as widgets\n",
        "from IPython.display import display, HTML\n",
        "x = widgets.RadioButtons(\n",
        "    options=['finance', 'leasing', 'private equity', 'corporate M&A', 'bond financing'],\n",
        "     value='finance',\n",
        "    description='Type:',\n",
        "    disabled=False\n",
        ")\n",
        "display(x)\n",
        "\n",
        "IntSlider = widgets.SelectionSlider(\n",
        "    options=['Aggressive', 'Favorable', 'Neutral', 'Must Haves'],\n",
        "    value='Aggressive',\n",
        "    description='Set Intensity:',\n",
        "    disabled=False,\n",
        "    continuous_update=False,\n",
        "    orientation='horizontal',\n",
        "    readout=True\n",
        ")\n",
        "\n",
        "display(IntSlider)\n",
        "\n",
        "y = widgets.Text(\n",
        "    value='filename and path',\n",
        "    placeholder='Type something',\n",
        "    description='Filename:',\n",
        "    disabled=False\n",
        ")\n",
        "\n",
        "display(y)\n",
        "\n",
        "from IPython.display import display\n",
        "button = widgets.Button(description=\"Submit\")\n",
        "button.style.button_color = 'lightblue'\n",
        "display(button)\n",
        "\n",
        "def on_button_clicked(df_current):\n",
        "    print(\"Button clicked.\")\n",
        "    run_match(df_current)\n",
        "\n",
        "\n",
        "button.on_click(on_button_clicked(y.value))"
      ],
      "execution_count": 0,
      "outputs": [
        {
          "output_type": "display_data",
          "data": {
            "application/vnd.jupyter.widget-view+json": {
              "model_id": "96507080d4f04af197c89a27daca2cd7",
              "version_major": 2,
              "version_minor": 0
            },
            "text/plain": [
              "RadioButtons(description='Type:', options=('finance', 'leasing', 'private equity', 'corporate M&A', 'bond fina…"
            ]
          },
          "metadata": {
            "tags": []
          }
        },
        {
          "output_type": "display_data",
          "data": {
            "application/vnd.jupyter.widget-view+json": {
              "model_id": "86248f279a2c470c980ed52a4f40a37e",
              "version_major": 2,
              "version_minor": 0
            },
            "text/plain": [
              "SelectionSlider(continuous_update=False, description='Set Intensity:', options=('Aggressive', 'Favorable', 'Ne…"
            ]
          },
          "metadata": {
            "tags": []
          }
        },
        {
          "output_type": "display_data",
          "data": {
            "application/vnd.jupyter.widget-view+json": {
              "model_id": "0c06909aa299490bbf24f2051bf3abaf",
              "version_major": 2,
              "version_minor": 0
            },
            "text/plain": [
              "Text(value='filename and path', description='Filename:', placeholder='Type something')"
            ]
          },
          "metadata": {
            "tags": []
          }
        },
        {
          "output_type": "display_data",
          "data": {
            "application/vnd.jupyter.widget-view+json": {
              "model_id": "8fd1f82d2ed44434aad2deee86ab9cd1",
              "version_major": 2,
              "version_minor": 0
            },
            "text/plain": [
              "Button(description='Submit', style=ButtonStyle(button_color='lightblue'))"
            ]
          },
          "metadata": {
            "tags": []
          }
        },
        {
          "output_type": "stream",
          "text": [
            "Button clicked.\n"
          ],
          "name": "stdout"
        },
        {
          "output_type": "error",
          "ename": "TypeError",
          "evalue": "run_match() missing 1 required positional argument: 'df_current'",
          "traceback": [
            "\u001b[0;31m---------------------------------------------------------------------------\u001b[0m",
            "\u001b[0;31mTypeError\u001b[0m                                 Traceback (most recent call last)",
            "\u001b[0;32m<ipython-input-5-3891e9614d6b>\u001b[0m in \u001b[0;36m<module>\u001b[0;34m()\u001b[0m\n\u001b[1;32m     40\u001b[0m \u001b[0;34m\u001b[0m\u001b[0m\n\u001b[1;32m     41\u001b[0m \u001b[0;34m\u001b[0m\u001b[0m\n\u001b[0;32m---> 42\u001b[0;31m \u001b[0mbutton\u001b[0m\u001b[0;34m.\u001b[0m\u001b[0mon_click\u001b[0m\u001b[0;34m(\u001b[0m\u001b[0mon_button_clicked\u001b[0m\u001b[0;34m(\u001b[0m\u001b[0my\u001b[0m\u001b[0;34m.\u001b[0m\u001b[0mvalue\u001b[0m\u001b[0;34m)\u001b[0m\u001b[0;34m)\u001b[0m\u001b[0;34m\u001b[0m\u001b[0m\n\u001b[0m",
            "\u001b[0;32m<ipython-input-5-3891e9614d6b>\u001b[0m in \u001b[0;36mon_button_clicked\u001b[0;34m(df_current)\u001b[0m\n\u001b[1;32m     37\u001b[0m \u001b[0;32mdef\u001b[0m \u001b[0mon_button_clicked\u001b[0m\u001b[0;34m(\u001b[0m\u001b[0mdf_current\u001b[0m\u001b[0;34m)\u001b[0m\u001b[0;34m:\u001b[0m\u001b[0;34m\u001b[0m\u001b[0m\n\u001b[1;32m     38\u001b[0m     \u001b[0mprint\u001b[0m\u001b[0;34m(\u001b[0m\u001b[0;34m\"Button clicked.\"\u001b[0m\u001b[0;34m)\u001b[0m\u001b[0;34m\u001b[0m\u001b[0m\n\u001b[0;32m---> 39\u001b[0;31m     \u001b[0mrun_match\u001b[0m\u001b[0;34m(\u001b[0m\u001b[0mdf_current\u001b[0m\u001b[0;34m)\u001b[0m\u001b[0;34m\u001b[0m\u001b[0m\n\u001b[0m\u001b[1;32m     40\u001b[0m \u001b[0;34m\u001b[0m\u001b[0m\n\u001b[1;32m     41\u001b[0m \u001b[0;34m\u001b[0m\u001b[0m\n",
            "\u001b[0;31mTypeError\u001b[0m: run_match() missing 1 required positional argument: 'df_current'"
          ]
        }
      ]
    },
    {
      "metadata": {
        "id": "-2W1epcMJOkh",
        "colab_type": "text"
      },
      "cell_type": "markdown",
      "source": [
        "## QuickCAR\n",
        "***\n",
        "Computer generated responses to requests for production and interrogetories. Machine learning algorithms and fuzzy matching are used to incorporate historical responses to similar requests.  Will automatically generate a first draft of a response."
      ]
    },
    {
      "metadata": {
        "id": "2ewluTMYJOkm",
        "colab_type": "code",
        "colab": {}
      },
      "cell_type": "code",
      "source": [
        "\n",
        "y = widgets.Text(\n",
        "    value='filename and path',\n",
        "    placeholder='Type something',\n",
        "    description='Filename:',\n",
        "    disabled=False\n",
        ")\n",
        "\n",
        "display(y)\n",
        "\n",
        "from IPython.display import display\n",
        "button = widgets.Button(description=\"Submit\")\n",
        "button.style.button_color = 'lightblue'\n",
        "display(button)\n",
        "\n",
        "def on_button_clicked(b):\n",
        "    print(\"Button clicked.\")\n",
        "\n",
        "button.on_click(on_button_clicked)"
      ],
      "execution_count": 0,
      "outputs": []
    },
    {
      "metadata": {
        "id": "Dwh_X6sBJOk4",
        "colab_type": "text"
      },
      "cell_type": "markdown",
      "source": [
        "## Signature Page Generator\n",
        "***\n",
        "Generate signature page packets with the press of a button."
      ]
    },
    {
      "metadata": {
        "id": "lSr433L9JOk5",
        "colab_type": "text"
      },
      "cell_type": "markdown",
      "source": [
        "## Closing Binder Generator\n",
        "***\n",
        "Automate the preparation of closing binders."
      ]
    },
    {
      "metadata": {
        "id": "3EgiD66FJOk-",
        "colab_type": "text"
      },
      "cell_type": "markdown",
      "source": [
        "# Documentation and Help"
      ]
    },
    {
      "metadata": {
        "id": "1FZ8AMeUJOlB",
        "colab_type": "code",
        "colab": {}
      },
      "cell_type": "code",
      "source": [
        ""
      ],
      "execution_count": 0,
      "outputs": []
    },
    {
      "metadata": {
        "id": "SYnSLnl6JOlQ",
        "colab_type": "text"
      },
      "cell_type": "markdown",
      "source": [
        "## *Classification Tool*"
      ]
    },
    {
      "metadata": {
        "id": "Bv1WUIW6JOlR",
        "colab_type": "text"
      },
      "cell_type": "markdown",
      "source": [
        "### Getting Started \n",
        "***"
      ]
    },
    {
      "metadata": {
        "id": "Xy0a7crxJOlT",
        "colab_type": "code",
        "colab": {}
      },
      "cell_type": "code",
      "source": [
        ""
      ],
      "execution_count": 0,
      "outputs": []
    },
    {
      "metadata": {
        "id": "cpnOuyYyJOlp",
        "colab_type": "code",
        "colab": {}
      },
      "cell_type": "code",
      "source": [
        ""
      ],
      "execution_count": 0,
      "outputs": []
    },
    {
      "metadata": {
        "id": "07WhHRtWJOmB",
        "colab_type": "code",
        "colab": {}
      },
      "cell_type": "code",
      "source": [
        ""
      ],
      "execution_count": 0,
      "outputs": []
    },
    {
      "metadata": {
        "id": "xmRn7s7dJOmH",
        "colab_type": "code",
        "colab": {}
      },
      "cell_type": "code",
      "source": [
        ""
      ],
      "execution_count": 0,
      "outputs": []
    },
    {
      "metadata": {
        "id": "DQwoZy5BJOmO",
        "colab_type": "code",
        "colab": {}
      },
      "cell_type": "code",
      "source": [
        ""
      ],
      "execution_count": 0,
      "outputs": []
    },
    {
      "metadata": {
        "id": "X86j11jRJOmX",
        "colab_type": "code",
        "colab": {}
      },
      "cell_type": "code",
      "source": [
        ""
      ],
      "execution_count": 0,
      "outputs": []
    },
    {
      "metadata": {
        "id": "Q-q3RbOKJOmj",
        "colab_type": "code",
        "colab": {}
      },
      "cell_type": "code",
      "source": [
        ""
      ],
      "execution_count": 0,
      "outputs": []
    },
    {
      "metadata": {
        "id": "fknNJI40JOmt",
        "colab_type": "code",
        "colab": {}
      },
      "cell_type": "code",
      "source": [
        ""
      ],
      "execution_count": 0,
      "outputs": []
    },
    {
      "metadata": {
        "id": "GCXYA_etJOm3",
        "colab_type": "code",
        "colab": {}
      },
      "cell_type": "code",
      "source": [
        ""
      ],
      "execution_count": 0,
      "outputs": []
    },
    {
      "metadata": {
        "id": "crjlRQZKJOnG",
        "colab_type": "code",
        "colab": {}
      },
      "cell_type": "code",
      "source": [
        ""
      ],
      "execution_count": 0,
      "outputs": []
    },
    {
      "metadata": {
        "id": "EbRwK9LMJOnO",
        "colab_type": "code",
        "colab": {}
      },
      "cell_type": "code",
      "source": [
        ""
      ],
      "execution_count": 0,
      "outputs": []
    },
    {
      "metadata": {
        "id": "8s3emAtQJOnf",
        "colab_type": "code",
        "colab": {}
      },
      "cell_type": "code",
      "source": [
        ""
      ],
      "execution_count": 0,
      "outputs": []
    },
    {
      "metadata": {
        "id": "mWP5fI0pJOn7",
        "colab_type": "code",
        "colab": {}
      },
      "cell_type": "code",
      "source": [
        ""
      ],
      "execution_count": 0,
      "outputs": []
    },
    {
      "metadata": {
        "id": "xJqwSRqeJOoD",
        "colab_type": "code",
        "colab": {}
      },
      "cell_type": "code",
      "source": [
        ""
      ],
      "execution_count": 0,
      "outputs": []
    },
    {
      "metadata": {
        "id": "JS8bcNpkJOoP",
        "colab_type": "code",
        "colab": {}
      },
      "cell_type": "code",
      "source": [
        ""
      ],
      "execution_count": 0,
      "outputs": []
    },
    {
      "metadata": {
        "id": "xnz3I6AlJOoa",
        "colab_type": "code",
        "colab": {}
      },
      "cell_type": "code",
      "source": [
        ""
      ],
      "execution_count": 0,
      "outputs": []
    },
    {
      "metadata": {
        "id": "2Ew5HUwtJOou",
        "colab_type": "code",
        "colab": {}
      },
      "cell_type": "code",
      "source": [
        ""
      ],
      "execution_count": 0,
      "outputs": []
    },
    {
      "metadata": {
        "id": "7kJpQvyXJOpT",
        "colab_type": "code",
        "colab": {}
      },
      "cell_type": "code",
      "source": [
        ""
      ],
      "execution_count": 0,
      "outputs": []
    },
    {
      "metadata": {
        "id": "OKpNE02wJOpi",
        "colab_type": "code",
        "colab": {}
      },
      "cell_type": "code",
      "source": [
        ""
      ],
      "execution_count": 0,
      "outputs": []
    },
    {
      "metadata": {
        "id": "NGnyA65dJOpq",
        "colab_type": "code",
        "colab": {}
      },
      "cell_type": "code",
      "source": [
        ""
      ],
      "execution_count": 0,
      "outputs": []
    },
    {
      "metadata": {
        "id": "aGeR5o2-JOpw",
        "colab_type": "code",
        "colab": {}
      },
      "cell_type": "code",
      "source": [
        ""
      ],
      "execution_count": 0,
      "outputs": []
    },
    {
      "metadata": {
        "id": "WhreGRu4JOp9",
        "colab_type": "code",
        "colab": {}
      },
      "cell_type": "code",
      "source": [
        ""
      ],
      "execution_count": 0,
      "outputs": []
    },
    {
      "metadata": {
        "id": "kaGqqRVOJOqC",
        "colab_type": "code",
        "colab": {}
      },
      "cell_type": "code",
      "source": [
        ""
      ],
      "execution_count": 0,
      "outputs": []
    },
    {
      "metadata": {
        "id": "pdEPkG27JOqK",
        "colab_type": "code",
        "colab": {}
      },
      "cell_type": "code",
      "source": [
        ""
      ],
      "execution_count": 0,
      "outputs": []
    },
    {
      "metadata": {
        "id": "ScPBORtPJOqN",
        "colab_type": "code",
        "colab": {}
      },
      "cell_type": "code",
      "source": [
        "\n",
        "\n",
        "\n",
        "\n",
        "\n",
        "\n",
        "\n",
        "\n",
        "\n",
        "\n",
        "\n",
        "\n",
        "\n",
        "\n",
        "\n",
        "\n",
        "\n",
        "\n",
        "\n",
        "\n",
        "\n",
        "\n",
        "\n",
        "\n",
        "\n",
        "\n",
        "\n",
        "\n",
        "\n",
        "\n",
        "\n",
        "\n",
        "\n",
        "\n",
        "\n",
        "\n",
        "\n",
        "\n",
        "\n",
        "\n",
        "\n",
        "\n",
        "\n",
        "\n",
        "\n",
        "\n",
        "\n",
        "\n",
        "\n",
        "\n",
        "\n",
        "\n",
        "\n",
        "\n",
        "\n",
        "\n",
        "\n",
        "\n",
        "\n",
        "\n",
        "\n",
        "\n",
        "\n",
        "\n",
        "\n",
        "\n",
        "\n",
        "\n",
        "\n",
        "\n",
        "\n",
        "\n",
        "\n",
        "\n",
        "\n",
        "\n",
        "\n",
        "\n",
        "\n",
        "\n",
        "\n",
        "\n",
        "\n",
        "\n",
        "\n",
        "\n",
        "\n",
        "\n",
        "\n",
        "\n",
        "\n",
        "\n",
        "\n",
        "\n",
        "\n",
        "\n",
        "\n",
        "\n",
        "\n",
        "\n",
        "\n",
        "\n",
        "\n",
        "\n",
        "\n",
        "\n",
        "\n",
        "\n",
        "\n",
        "\n",
        "\n",
        "\n",
        "\n",
        "\n",
        "\n",
        "\n",
        "\n",
        "\n",
        "\n",
        "\n",
        "\n",
        "\n",
        "\n",
        "\n",
        "\n",
        "\n",
        "\n",
        "\n",
        "\n",
        "\n",
        "\n",
        "\n",
        "\n",
        "\n",
        "\n",
        "\n",
        "\\"
      ],
      "execution_count": 0,
      "outputs": []
    }
  ]
}